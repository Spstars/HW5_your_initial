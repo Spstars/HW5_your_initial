{
 "cells": [
  {
   "cell_type": "code",
   "execution_count": 1,
   "metadata": {},
   "outputs": [
    {
     "name": "stdout",
     "output_type": "stream",
     "text": [
      "***Subway Report for Seoul on March 2023***\n",
      "\n",
      "1st busiest line : 2호선(85620512)\n",
      "2nd busiest line : 5호선(39671990)\n",
      "1st least used line : 8호선(11863928)\n",
      "2nd least used line : 1호선(14705833)\n"
     ]
    }
   ],
   "source": [
    "import csv\n",
    "\n",
    "def main():\n",
    "#need to be changed\n",
    "    file=\"C:\\\\Users\\\\gijin\\\\HW5_your_initial\\\\q3\\\\q3.csv\"\n",
    "    f=open(file,'r',encoding='cp949')\n",
    "    data=csv.reader(f,delimiter=\",\")\n",
    "    head=next(data)\n",
    "    hosun={}\n",
    "    for d in data:\n",
    "        if d[1].startswith((\"1\",\"2\",\"3\",\"4\",\"5\",\"6\",\"7\",\"8\",\"9\")) and d[1].endswith(\"호선\"):\n",
    "            upPeople=d[4].replace(\",\",\"\")\n",
    "            downPeople=d[5].replace(\",\",\"\")\n",
    "            customer=int(upPeople)+int(downPeople)\n",
    "            if d[1] not in hosun:\n",
    "                hosun[d[1]]=customer\n",
    "            else:\n",
    "                hosun[d[1]]+=customer\n",
    "\n",
    "    hosun=sorted(list(hosun.items()),key=lambda x:x[1])\n",
    "    print(\"***Subway Report for Seoul on March 2023***\")\n",
    "    print()\n",
    "    print(\"1st busiest line : {}({})\".format(hosun[-1][0],hosun[-1][1]))\n",
    "    print(\"2nd busiest line : {}({})\".format(hosun[-2][0],hosun[-2][1]))\n",
    "    print(\"1st least used line : {}({})\".format(hosun[0][0],hosun[0][1]))\n",
    "    print(\"2nd least used line : {}({})\".format(hosun[1][0],hosun[1][1]))\n",
    "    \n",
    "\n",
    "if __name__ == \"__main__\":\n",
    "    main()\n"
   ]
  },
  {
   "cell_type": "code",
   "execution_count": null,
   "metadata": {},
   "outputs": [],
   "source": []
  }
 ],
 "metadata": {
  "kernelspec": {
   "display_name": "base",
   "language": "python",
   "name": "python3"
  },
  "language_info": {
   "codemirror_mode": {
    "name": "ipython",
    "version": 3
   },
   "file_extension": ".py",
   "mimetype": "text/x-python",
   "name": "python",
   "nbconvert_exporter": "python",
   "pygments_lexer": "ipython3",
   "version": "3.8.5"
  },
  "orig_nbformat": 4
 },
 "nbformat": 4,
 "nbformat_minor": 2
}
