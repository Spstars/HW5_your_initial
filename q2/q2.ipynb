{
 "cells": [
  {
   "cell_type": "code",
   "execution_count": 1,
   "metadata": {},
   "outputs": [
    {
     "name": "stdout",
     "output_type": "stream",
     "text": [
      "*** Annual Temperature Report for Seoul in 2022***\n",
      "\n",
      "Day with the Largest Temperature Variation:2022-11-29 \n",
      "\n",
      "Maximum Temperature Difference : 16.6 Celsius\n",
      "\n",
      "Day with the Smallest Temperature Variation:2022-06-29 \n",
      "\n",
      "Minimum Temperature Difference : 1.7 Celsius\n"
     ]
    }
   ],
   "source": [
    "import csv\n",
    "#need to be changed\n",
    "def main():\n",
    "    file=\"C:\\\\Users\\\\gijin\\\\HW5_your_initial\\\\2022_Seoul_Temp.csv\"\n",
    "    f=open(file,'r',encoding='cp949')\n",
    "    data=csv.reader(f,delimiter=\",\")\n",
    "\n",
    "    head=next(data)\n",
    "    temp_diff=[]\n",
    "\n",
    "    for d in data:\n",
    "        if d[2] != \"\" and d[3] != \"\" and d[4] != \"\" :\n",
    "            temp_diff.append((d[0],float(d[4])-float(d[3])))\n",
    "        # else:\n",
    "        #     #missing data 제외\n",
    "        #     print(\"ERR\")\n",
    "    f.close()\n",
    "    counter1=0\n",
    "    counter2=0\n",
    "    for i in range(364):\n",
    "        if temp_diff[i][1]>=16.6:\n",
    "            counter1+=1\n",
    "        if temp_diff[i][1]<=1.8:\n",
    "            counter2+=1\n",
    "    #즉, 16.6과 1.7(정확히는 1.7x)가 하나 밖에 없음을 세었음.\n",
    "    #여러개를 출력할 필요가 없다.\n",
    "    # print(counter1,counter2)\n",
    "        \n",
    "    print(\"*** Annual Temperature Report for Seoul in 2022***\")\n",
    "    print()\n",
    "    # print(len(temperature),len(low_tem),len(high_tem),)\n",
    "    max_day_temp=max(temp_diff,key=lambda x : x[1])\n",
    "    min_day_temp=min(temp_diff,key=lambda x : x[1])\n",
    "    print(\"Day with the Largest Temperature Variation:{} \".format(max_day_temp[0]))\n",
    "    print()\n",
    "    print(\"Maximum Temperature Difference : {:.1f} Celsius\".format(max_day_temp[1]))\n",
    "    print()\n",
    "    print(\"Day with the Smallest Temperature Variation:{} \".format(min_day_temp[0]))\n",
    "    print()\n",
    "    print(\"Minimum Temperature Difference : {:.1f} Celsius\".format(min_day_temp[1]))\n",
    "\n",
    "if __name__ == \"__main__\":\n",
    "    main()"
   ]
  },
  {
   "cell_type": "code",
   "execution_count": null,
   "metadata": {},
   "outputs": [],
   "source": []
  }
 ],
 "metadata": {
  "kernelspec": {
   "display_name": "base",
   "language": "python",
   "name": "python3"
  },
  "language_info": {
   "codemirror_mode": {
    "name": "ipython",
    "version": 3
   },
   "file_extension": ".py",
   "mimetype": "text/x-python",
   "name": "python",
   "nbconvert_exporter": "python",
   "pygments_lexer": "ipython3",
   "version": "3.8.5"
  },
  "orig_nbformat": 4
 },
 "nbformat": 4,
 "nbformat_minor": 2
}
